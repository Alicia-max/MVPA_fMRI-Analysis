{
 "cells": [
  {
   "cell_type": "markdown",
   "id": "31328e81",
   "metadata": {},
   "source": [
    "### Dataset\n",
    "\n",
    "#### experimental structure\n",
    "5 runs <br>\n",
    "12 trials per run <br>\n",
    "4 conditions \n",
    "- cond 1: low GO, low U\n",
    "- cond 2: low GO, high U\n",
    "- cond 3: high GO, low U\n",
    "- cond 4: high GO, high U <br>\n",
    "\n",
    "No_subs = 49\n",
    "\n",
    "No_conditions = 6 <br>\n",
    "6 types of events per trial <br>\n",
    "list of conditions: 'caught', 'chase', 'checkpoint', 'close_enemy', 'protected_by_wall', 'vc_hit' <br>\n",
    "\n",
    "#### possibilities of modelling data per sub\n",
    "- __one beta map per run__\n",
    "- one beta map per x trials, x={1,2,3,6}\n",
    "- one beta map per condition --> we will model conditions rather than the events within a trial\n",
    "\n",
    "#### tutorial link\n",
    "https://peerherholz.github.io/workshop_weizmann/advanced/machine_learning_nilearn.html"
   ]
  },
  {
   "cell_type": "code",
   "execution_count": null,
   "id": "f532f3a5",
   "metadata": {},
   "outputs": [],
   "source": [
    "# load beta images \n",
    "sub_no = 1\n",
    "img = nib.load('path/to/mvpa/sub-%02d_betas.nii.gz' % sub_no)\n",
    "img.shape # check: it should be (91, 109, 91, 30), meaning there are 30 3D images"
   ]
  },
  {
   "cell_type": "code",
   "execution_count": null,
   "id": "9f1537fb",
   "metadata": {},
   "outputs": [],
   "source": [
    "# create brain mask \n",
    "from nilearn.masking import compute_brain_mask\n",
    "\n",
    "anat_path = 'path/to/average_T1_51subs_FE.nii'\n",
    "mask = compute_brain_mask(anat_path, verbose=0)\n"
   ]
  },
  {
   "cell_type": "code",
   "execution_count": null,
   "id": "9b4fb192",
   "metadata": {},
   "outputs": [],
   "source": [
    "# create ground truth labels\n",
    "labels = np.tile(['caught', 'chase', 'checkpoint', 'close_enemy', 'protected_by_wall', 'vc_hit'], 5)"
   ]
  },
  {
   "cell_type": "markdown",
   "id": "934356a3",
   "metadata": {},
   "source": [
    "think about which kinds of classifiers would you like to use and why? <br>\n",
    "which other models that are not in the tutorial would you think could be interesting to test out? <br>\n",
    "\n",
    "\n",
    "### Cross validation\n",
    "read the paper and emulate their CV paradigm. <br>\n",
    "\n",
    "__potential possibilities__\n",
    "- leave one run out, one model per sub\n",
    "- leave one run out per sub\n",
    "- leave one subject out "
   ]
  }
 ],
 "metadata": {
  "kernelspec": {
   "display_name": "neurokit_modified",
   "language": "python",
   "name": "neurokit_modified"
  },
  "language_info": {
   "codemirror_mode": {
    "name": "ipython",
    "version": 3
   },
   "file_extension": ".py",
   "mimetype": "text/x-python",
   "name": "python",
   "nbconvert_exporter": "python",
   "pygments_lexer": "ipython3",
   "version": "3.8.12"
  }
 },
 "nbformat": 4,
 "nbformat_minor": 5
}

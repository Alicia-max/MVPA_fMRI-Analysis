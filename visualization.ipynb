{
 "cells": [
  {
   "cell_type": "code",
   "execution_count": 1,
   "metadata": {},
   "outputs": [],
   "source": [
    "import pickle"
   ]
  },
  {
   "cell_type": "code",
   "execution_count": 2,
   "metadata": {},
   "outputs": [
    {
     "name": "stderr",
     "output_type": "stream",
     "text": [
      "/Users/skowronski/Library/Python/3.9/lib/python/site-packages/sklearn/base.py:329: UserWarning: Trying to unpickle estimator LogisticRegression from version 1.0.2 when using version 1.1.3. This might lead to breaking code or invalid results. Use at your own risk. For more info please refer to:\n",
      "https://scikit-learn.org/stable/model_persistence.html#security-maintainability-limitations\n",
      "  warnings.warn(\n",
      "/Users/skowronski/Library/Python/3.9/lib/python/site-packages/sklearn/base.py:329: UserWarning: Trying to unpickle estimator LabelBinarizer from version 1.0.2 when using version 1.1.3. This might lead to breaking code or invalid results. Use at your own risk. For more info please refer to:\n",
      "https://scikit-learn.org/stable/model_persistence.html#security-maintainability-limitations\n",
      "  warnings.warn(\n"
     ]
    }
   ],
   "source": [
    "## Loading the decoder\n",
    "decoderdir = 'logs/decoder_CV_per_run/train_decoder.sav'\n",
    "decoder = pickle.load(open(decoderdir, 'rb'))"
   ]
  },
  {
   "cell_type": "code",
   "execution_count": 3,
   "metadata": {},
   "outputs": [
    {
     "name": "stdout",
     "output_type": "stream",
     "text": [
      "Decoder(cv=LeaveOneGroupOut(), estimator=LogisticRegression(solver='liblinear'),\n",
      "        mask=<nibabel.nifti1.Nifti1Image object at 0x10aa25dc0>,\n",
      "        memory=Memory(location=None), n_jobs=-1,\n",
      "        param_grid={'C': [1e-05], 'max_iter': [100],\n",
      "                    'multi_class': ['multinomial'], 'penalty': ['l2'],\n",
      "                    'solver': ['lbfgs']},\n",
      "        verbose=1)\n"
     ]
    }
   ],
   "source": [
    "print(decoder)"
   ]
  },
  {
   "cell_type": "code",
   "execution_count": 4,
   "metadata": {},
   "outputs": [],
   "source": [
    "## Loading one of the spacenets model\n",
    "spacenetdir = 'logs/spacenet_CV_per_run_tv-l1/trained_spacenet_0.1.sav'\n",
    "spacenet = pickle.load(open(spacenetdir, 'rb'))"
   ]
  },
  {
   "cell_type": "code",
   "execution_count": 5,
   "metadata": {},
   "outputs": [
    {
     "name": "stdout",
     "output_type": "stream",
     "text": [
      "{'trained_decoder': SpaceNetClassifier(alphas=0.1, cv=1,\n",
      "                   mask=<nibabel.nifti1.Nifti1Image object at 0x12d0e30d0>,\n",
      "                   penalty='tv-l1'), 'accuracies': [0.6326530612244898, 0.782312925170068, 0.7721088435374149, 0.7891156462585034, 0.8027210884353742]}\n"
     ]
    }
   ],
   "source": [
    "print(spacenet)"
   ]
  },
  {
   "cell_type": "code",
   "execution_count": null,
   "metadata": {},
   "outputs": [],
   "source": []
  }
 ],
 "metadata": {
  "kernelspec": {
   "display_name": "Python 3",
   "language": "python",
   "name": "python3"
  },
  "language_info": {
   "codemirror_mode": {
    "name": "ipython",
    "version": 3
   },
   "file_extension": ".py",
   "mimetype": "text/x-python",
   "name": "python",
   "nbconvert_exporter": "python",
   "pygments_lexer": "ipython3",
   "version": "3.9.6"
  },
  "orig_nbformat": 4,
  "vscode": {
   "interpreter": {
    "hash": "31f2aee4e71d21fbe5cf8b01ff0e069b9275f58929596ceb00d14d90e3e16cd6"
   }
  }
 },
 "nbformat": 4,
 "nbformat_minor": 2
}
